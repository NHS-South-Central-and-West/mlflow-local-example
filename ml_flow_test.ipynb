{
 "cells": [
  {
   "cell_type": "markdown",
   "id": "16be401c",
   "metadata": {},
   "source": [
    "# MLFlow: recording experiments to file"
   ]
  },
  {
   "cell_type": "code",
   "execution_count": null,
   "id": "62ee80b2",
   "metadata": {},
   "outputs": [],
   "source": [
    "import pandas as pd\n",
    "import mlflow as ml\n",
    "import sklearn"
   ]
  },
  {
   "cell_type": "code",
   "execution_count": null,
   "id": "c99fa8f3",
   "metadata": {},
   "outputs": [],
   "source": [
    "# nyc_data is from the NYC Taxi dataset with zips swapped for lat/long\n",
    "# and whether the pickup time was the night shift (between 5 p.m and 5 a.m.)\n",
    "df = pd.read_csv('./data/nyc_data.csv')\n",
    "\n",
    "df.head()"
   ]
  },
  {
   "cell_type": "code",
   "execution_count": null,
   "id": "be85e7b2",
   "metadata": {},
   "outputs": [],
   "source": [
    "from sklearn.model_selection import train_test_split\n",
    "from sklearn.preprocessing import StandardScaler"
   ]
  },
  {
   "cell_type": "code",
   "execution_count": null,
   "id": "865a5d8e",
   "metadata": {},
   "outputs": [],
   "source": [
    "y = df['fare_amount']\n",
    "X = df.drop(['fare_amount'], axis=1)\n",
    "X_train, X_test, y_train, y_test = train_test_split(X, y, test_size=0.3, random_state=88)\n",
    "scaler = StandardScaler()\n",
    "X_train = scaler.fit_transform(X_train)\n",
    "X_test = scaler.transform(X_test)"
   ]
  },
  {
   "cell_type": "code",
   "execution_count": null,
   "id": "941b65da",
   "metadata": {},
   "outputs": [],
   "source": [
    "from sklearn.linear_model import LinearRegression"
   ]
  },
  {
   "cell_type": "code",
   "execution_count": null,
   "id": "a08808ea",
   "metadata": {},
   "outputs": [],
   "source": [
    "# you need to set up an \"experiments\" folder manually, but don't create any other folders.\n",
    "\n",
    "import mlflow\n",
    "\n",
    "mlflow.sklearn.autolog()\n",
    "\n",
    "experiments = './experiments' # path where the generated files will get stored\n",
    "\n",
    "mlflow.set_tracking_uri(experiments) \n",
    "\n",
    "mlflow.set_experiment(\"experiment_0001\") # if it doesn't exist, gets generated.\n"
   ]
  },
  {
   "cell_type": "code",
   "execution_count": null,
   "id": "46965821",
   "metadata": {},
   "outputs": [],
   "source": [
    "from sklearn.metrics import (\n",
    "    mean_squared_error, mean_absolute_error,\n",
    "    r2_score, mean_absolute_percentage_error, explained_variance_score\n",
    ")"
   ]
  },
  {
   "cell_type": "code",
   "execution_count": null,
   "id": "7aa5ef20",
   "metadata": {},
   "outputs": [],
   "source": [
    "with mlflow.start_run(run_name='LRG1'):\n",
    "    lrg = LinearRegression(fit_intercept=True)\n",
    "    lrg.fit(X_train,y_train)\n",
    "    predictions = lrg.predict(X_test)\n",
    "\n",
    "    # parameters get logged automatically.\n",
    "\n",
    "    metrics = {\n",
    "    \"r2\": r2_score(y_test, predictions),\n",
    "    \"mse\": mean_squared_error(y_test, predictions),\n",
    "    \"mae\": mean_absolute_error(y_test, predictions),\n",
    "    \"mape\": mean_absolute_percentage_error(y_test, predictions),\n",
    "    \"explained_variance\": explained_variance_score(y_test, predictions),\n",
    "    }\n",
    "\n",
    "    mlflow.log_metrics(metrics)\n",
    "\n",
    "    lrg.score(X_test,y_test)\n",
    "    mlflow.sklearn.log_model(lrg,'basic_logistic_regression')"
   ]
  },
  {
   "cell_type": "markdown",
   "id": "a5174fd1",
   "metadata": {},
   "source": [
    "Now you need to open the terminal, activate the venv with `.venv\\Scripts\\activate.ps1` then run `python -m mlflow ui --backend-store-uri ./experiments`, finally clicking on the local host address to view the experiment in the mlflow interface."
   ]
  }
 ],
 "metadata": {
  "kernelspec": {
   "display_name": ".venv",
   "language": "python",
   "name": "python3"
  },
  "language_info": {
   "codemirror_mode": {
    "name": "ipython",
    "version": 3
   },
   "file_extension": ".py",
   "mimetype": "text/x-python",
   "name": "python",
   "nbconvert_exporter": "python",
   "pygments_lexer": "ipython3",
   "version": "3.12.7"
  }
 },
 "nbformat": 4,
 "nbformat_minor": 5
}
